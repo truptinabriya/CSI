{
  "cells": [
    {
      "cell_type": "code",
      "execution_count": 29,
      "metadata": {
        "id": "ueUVovKg5aML"
      },
      "outputs": [],
      "source": [
        "import pandas as pd"
      ]
    },
    {
      "cell_type": "code",
      "execution_count": 30,
      "metadata": {
        "id": "uBhW7hfV8D5d"
      },
      "outputs": [],
      "source": [
        "# Load the datasets\n",
        "train_data = pd.read_csv('Training Dataset.csv')\n",
        "test_data = pd.read_csv('Test Dataset.csv')\n",
        "sample_submission = pd.read_csv('Sample_Submission.csv')"
      ]
    },
    {
      "cell_type": "code",
      "execution_count": 31,
      "metadata": {
        "id": "x2s0PArh8KmA"
      },
      "outputs": [],
      "source": [
        "# Function to preprocess and feature engineer\n",
        "def preprocess_data(data):\n",
        "    # Impute missing values for categorical columns with mode\n",
        "    data['Gender'] = data['Gender'].fillna(data['Gender'].mode()[0])\n",
        "    data['Married'] = data['Married'].fillna(data['Married'].mode()[0])\n",
        "    data['Dependents'] = data['Dependents'].fillna(data['Dependents'].mode()[0])\n",
        "    data['Self_Employed'] = data['Self_Employed'].fillna(data['Self_Employed'].mode()[0])\n",
        "\n",
        "    # Impute missing values for numerical columns with median\n",
        "    data['LoanAmount'] = data['LoanAmount'].fillna(data['LoanAmount'].median())\n",
        "    data['Loan_Amount_Term'] = data['Loan_Amount_Term'].fillna(data['Loan_Amount_Term'].median())\n",
        "    data['Credit_History'] = data['Credit_History'].fillna(data['Credit_History'].median())\n",
        "\n",
        "    # Feature Engineering\n",
        "    # Create a new feature for Total Income\n",
        "    data['Total_Income'] = data['ApplicantIncome'] + data['CoapplicantIncome']\n",
        "\n",
        "    # Create a new feature for Loan Amount to Total Income ratio\n",
        "    data['Loan_Amount_to_Income'] = data['LoanAmount'] / data['Total_Income']\n",
        "\n",
        "    # Create a new feature for Loan Term in Years\n",
        "    data['Loan_Term_Years'] = data['Loan_Amount_Term'] / 12\n",
        "\n",
        "    # Convert categorical variables to numerical using one-hot encoding\n",
        "    data = pd.get_dummies(data, columns=['Gender', 'Married', 'Dependents', 'Education', 'Self_Employed', 'Property_Area'], drop_first=True)\n",
        "\n",
        "    return data\n"
      ]
    },
    {
      "cell_type": "code",
      "execution_count": 32,
      "metadata": {
        "id": "yyc026s98Rju"
      },
      "outputs": [],
      "source": [
        "# Preprocess the training data\n",
        "train_data = preprocess_data(train_data)"
      ]
    },
    {
      "cell_type": "code",
      "execution_count": 33,
      "metadata": {
        "id": "AAiSAw458VtA"
      },
      "outputs": [],
      "source": [
        "# Encode the target variable\n",
        "train_data['Loan_Status'] = train_data['Loan_Status'].map({'Y': 1, 'N': 0})"
      ]
    },
    {
      "cell_type": "code",
      "execution_count": 34,
      "metadata": {
        "id": "GkslfYK28X6Y"
      },
      "outputs": [],
      "source": [
        "# Splitting the training data into features and target variable\n",
        "X_train = train_data.drop(columns=['Loan_ID', 'Loan_Status'])\n",
        "y_train = train_data['Loan_Status']"
      ]
    },
    {
      "cell_type": "code",
      "execution_count": 35,
      "metadata": {
        "id": "NjWhjoNR8bvN"
      },
      "outputs": [],
      "source": [
        "# Preprocess the test data\n",
        "test_data = preprocess_data(test_data)"
      ]
    },
    {
      "cell_type": "code",
      "execution_count": 36,
      "metadata": {
        "id": "2UDGGvbh8d-K"
      },
      "outputs": [],
      "source": [
        "# Ensure test_data has the same features as X_train\n",
        "missing_cols = set(X_train.columns) - set(test_data.columns)\n",
        "for col in missing_cols:\n",
        "    test_data[col] = 0\n",
        "test_data = test_data[X_train.columns]\n"
      ]
    },
    {
      "cell_type": "code",
      "execution_count": 37,
      "metadata": {
        "colab": {
          "base_uri": "https://localhost:8080/"
        },
        "id": "ehJElMMI8q6z",
        "outputId": "dcda5878-d047-40c2-f5c3-0d0abe54adc0"
      },
      "outputs": [
        {
          "name": "stdout",
          "output_type": "stream",
          "text": [
            "Loan_ID                    0\n",
            "ApplicantIncome            0\n",
            "CoapplicantIncome          0\n",
            "LoanAmount                 0\n",
            "Loan_Amount_Term           0\n",
            "Credit_History             0\n",
            "Loan_Status                0\n",
            "Total_Income               0\n",
            "Loan_Amount_to_Income      0\n",
            "Loan_Term_Years            0\n",
            "Gender_Male                0\n",
            "Married_Yes                0\n",
            "Dependents_1               0\n",
            "Dependents_2               0\n",
            "Dependents_3+              0\n",
            "Education_Not Graduate     0\n",
            "Self_Employed_Yes          0\n",
            "Property_Area_Semiurban    0\n",
            "Property_Area_Urban        0\n",
            "dtype: int64\n",
            "ApplicantIncome            0\n",
            "CoapplicantIncome          0\n",
            "LoanAmount                 0\n",
            "Loan_Amount_Term           0\n",
            "Credit_History             0\n",
            "Total_Income               0\n",
            "Loan_Amount_to_Income      0\n",
            "Loan_Term_Years            0\n",
            "Gender_Male                0\n",
            "Married_Yes                0\n",
            "Dependents_1               0\n",
            "Dependents_2               0\n",
            "Dependents_3+              0\n",
            "Education_Not Graduate     0\n",
            "Self_Employed_Yes          0\n",
            "Property_Area_Semiurban    0\n",
            "Property_Area_Urban        0\n",
            "dtype: int64\n"
          ]
        }
      ],
      "source": [
        "# Check for missing values after imputation and feature engineering\n",
        "print(train_data.isnull().sum())\n",
        "print(test_data.isnull().sum())"
      ]
    },
    {
      "cell_type": "code",
      "execution_count": 38,
      "metadata": {
        "colab": {
          "base_uri": "https://localhost:8080/"
        },
        "id": "fzDqVsYB8vwX",
        "outputId": "ec6b727a-c859-489a-a46c-5edd354b5b88"
      },
      "outputs": [
        {
          "name": "stdout",
          "output_type": "stream",
          "text": [
            "(614, 17) (614,) (367, 17)\n"
          ]
        }
      ],
      "source": [
        "# Display the shapes of the preprocessed data\n",
        "print(X_train.shape, y_train.shape, test_data.shape)"
      ]
    }
  ],
  "metadata": {
    "colab": {
      "provenance": []
    },
    "kernelspec": {
      "display_name": "Python 3",
      "name": "python3"
    },
    "language_info": {
      "name": "python"
    }
  },
  "nbformat": 4,
  "nbformat_minor": 0
}
